{
 "cells": [
  {
   "cell_type": "code",
   "execution_count": 1,
   "metadata": {},
   "outputs": [],
   "source": [
    "import pandas as pd\n",
    "import requests\n",
    "import gmaps\n",
    "from config import g_key"
   ]
  },
  {
   "cell_type": "code",
   "execution_count": 2,
   "metadata": {},
   "outputs": [],
   "source": [
    "#configuring gmaps\n",
    "gmaps.configure(api_key=g_key)"
   ]
  },
  {
   "cell_type": "code",
   "execution_count": 3,
   "metadata": {},
   "outputs": [
    {
     "data": {
      "text/html": [
       "<div>\n",
       "<style scoped>\n",
       "    .dataframe tbody tr th:only-of-type {\n",
       "        vertical-align: middle;\n",
       "    }\n",
       "\n",
       "    .dataframe tbody tr th {\n",
       "        vertical-align: top;\n",
       "    }\n",
       "\n",
       "    .dataframe thead th {\n",
       "        text-align: right;\n",
       "    }\n",
       "</style>\n",
       "<table border=\"1\" class=\"dataframe\">\n",
       "  <thead>\n",
       "    <tr style=\"text-align: right;\">\n",
       "      <th></th>\n",
       "      <th>City_ID</th>\n",
       "      <th>City</th>\n",
       "      <th>Country</th>\n",
       "      <th>Max Temp</th>\n",
       "      <th>Lat</th>\n",
       "      <th>Lng</th>\n",
       "      <th>Hotel Name</th>\n",
       "    </tr>\n",
       "  </thead>\n",
       "  <tbody>\n",
       "    <tr>\n",
       "      <th>0</th>\n",
       "      <td>0</td>\n",
       "      <td>Leshukonskoye</td>\n",
       "      <td>RU</td>\n",
       "      <td>57.06</td>\n",
       "      <td>64.90</td>\n",
       "      <td>45.76</td>\n",
       "      <td>Gostinitsa Mup Zhkkh</td>\n",
       "    </tr>\n",
       "    <tr>\n",
       "      <th>1</th>\n",
       "      <td>2</td>\n",
       "      <td>Tessalit</td>\n",
       "      <td>ML</td>\n",
       "      <td>87.64</td>\n",
       "      <td>20.20</td>\n",
       "      <td>1.01</td>\n",
       "      <td>NaN</td>\n",
       "    </tr>\n",
       "    <tr>\n",
       "      <th>2</th>\n",
       "      <td>3</td>\n",
       "      <td>Jamestown</td>\n",
       "      <td>US</td>\n",
       "      <td>68.00</td>\n",
       "      <td>42.10</td>\n",
       "      <td>-79.24</td>\n",
       "      <td>Hampton Inn &amp; Suites Jamestown</td>\n",
       "    </tr>\n",
       "    <tr>\n",
       "      <th>3</th>\n",
       "      <td>4</td>\n",
       "      <td>Gat</td>\n",
       "      <td>IL</td>\n",
       "      <td>78.01</td>\n",
       "      <td>31.61</td>\n",
       "      <td>34.76</td>\n",
       "      <td>רגע בנחת</td>\n",
       "    </tr>\n",
       "    <tr>\n",
       "      <th>4</th>\n",
       "      <td>5</td>\n",
       "      <td>Vaini</td>\n",
       "      <td>TO</td>\n",
       "      <td>80.60</td>\n",
       "      <td>-21.20</td>\n",
       "      <td>-175.20</td>\n",
       "      <td>Keleti Beach Resort</td>\n",
       "    </tr>\n",
       "  </tbody>\n",
       "</table>\n",
       "</div>"
      ],
      "text/plain": [
       "   City_ID           City Country  Max Temp    Lat     Lng  \\\n",
       "0        0  Leshukonskoye      RU     57.06  64.90   45.76   \n",
       "1        2       Tessalit      ML     87.64  20.20    1.01   \n",
       "2        3      Jamestown      US     68.00  42.10  -79.24   \n",
       "3        4            Gat      IL     78.01  31.61   34.76   \n",
       "4        5          Vaini      TO     80.60 -21.20 -175.20   \n",
       "\n",
       "                       Hotel Name  \n",
       "0            Gostinitsa Mup Zhkkh  \n",
       "1                             NaN  \n",
       "2  Hampton Inn & Suites Jamestown  \n",
       "3                        רגע בנחת  \n",
       "4             Keleti Beach Resort  "
      ]
     },
     "execution_count": 3,
     "metadata": {},
     "output_type": "execute_result"
    }
   ],
   "source": [
    "#reading csv file\n",
    "vacation_hotel_df=pd.read_csv(\"data/WeatherPy_Vacation.csv\")\n",
    "vacation_hotel_df.head()"
   ]
  },
  {
   "cell_type": "code",
   "execution_count": 4,
   "metadata": {},
   "outputs": [
    {
     "data": {
      "application/vnd.jupyter.widget-view+json": {
       "model_id": "2dbc783e75aa4e59815210d48fa873a4",
       "version_major": 2,
       "version_minor": 0
      },
      "text/plain": [
       "Figure(layout=FigureLayout(height='420px'))"
      ]
     },
     "metadata": {},
     "output_type": "display_data"
    }
   ],
   "source": [
    "#adding hotel marks to map\n",
    "info_box_template = \"\"\"\n",
    "<dl>\n",
    "<dt>Hotel Name</dt><dd>{Hotel Name}</dd>\n",
    "<dt>City</dt><dd>{City}</dd>\n",
    "<dt>Country</dt><dd>{Country}</dd>\n",
    "<dt>Hotel Name</dt><dd>{Hotel Name} at {Max Temp}</dd>\n",
    "</dl>\n",
    "\"\"\"\n",
    "# Store the DataFrame Row.\n",
    "hotel_info = [info_box_template.format(**row) for index, row in vacation_hotel_df.iterrows()]\n",
    "locations=vacation_hotel_df[[\"Lat\", \"Lng\"]]\n",
    "# Add a heatmap of temperature for the vacation spots.\n",
    "max_temp = vacation_hotel_df[\"Max Temp\"]\n",
    "fig = gmaps.figure(center=(30.0, 31.0), zoom_level=1.5)\n",
    "heat_layer = gmaps.heatmap_layer(locations, weights=max_temp, dissipating=False,\n",
    "             max_intensity=300, point_radius=4)\n",
    "#markers in GMAPS\n",
    "marker_layer = gmaps.marker_layer(locations, info_box_content=hotel_info)\n",
    "fig.add_layer(heat_layer)\n",
    "fig.add_layer(marker_layer)\n",
    "# Call the figure to plot the data.\n",
    "fig"
   ]
  },
  {
   "cell_type": "code",
   "execution_count": 5,
   "metadata": {},
   "outputs": [],
   "source": [
    "#Indicating vacation starts, stop a, stop b and end \n",
    "vacation_start=vacation_hotel_df.loc[vacation_hotel_df[\"City\"]==\"Abbeville\"]\n",
    "vacation_end=vacation_hotel_df.loc[vacation_hotel_df[\"City\"]==\"Clermont\"]\n",
    "vacation_stopa=vacation_hotel_df.loc[vacation_hotel_df[\"City\"]==\"Claye-Souilly\"]\n",
    "vacation_stopb=vacation_hotel_df.loc[vacation_hotel_df[\"City\"]==\"Bernay\"]"
   ]
  },
  {
   "cell_type": "code",
   "execution_count": 6,
   "metadata": {},
   "outputs": [
    {
     "name": "stdout",
     "output_type": "stream",
     "text": [
      "(50.1, 1.83)\n",
      "(49.5, 2.42)\n",
      "(48.94, 2.69)\n",
      "(49.17, 0.67)\n"
     ]
    }
   ],
   "source": [
    "#creating the data frames and getting lat, long pairs as tuples\n",
    "vstart=vacation_start[\"Lat\"].values[0], vacation_start[\"Lng\"].values[0]\n",
    "vend=vacation_end[\"Lat\"].values[0], vacation_end[\"Lng\"].values[0]\n",
    "vstopa=vacation_stopa[\"Lat\"].values[0], vacation_stopa[\"Lng\"].values[0]\n",
    "vstopb=vacation_stopb[\"Lat\"].values[0], vacation_stopb[\"Lng\"].values[0]\n",
    "\n",
    "#Print our values\n",
    "print(vstart)\n",
    "print(vend)\n",
    "print(vstopa)\n",
    "print(vstopb)"
   ]
  },
  {
   "cell_type": "code",
   "execution_count": 7,
   "metadata": {},
   "outputs": [
    {
     "data": {
      "application/vnd.jupyter.widget-view+json": {
       "model_id": "a5dc93ebbed348ad9884ccf4d037e051",
       "version_major": 2,
       "version_minor": 0
      },
      "text/plain": [
       "Figure(layout=FigureLayout(height='420px'))"
      ]
     },
     "metadata": {},
     "output_type": "display_data"
    }
   ],
   "source": [
    "fig=gmaps.figure()\n",
    "vacation_itinerary=gmaps.directions_layer(\n",
    "    vstart, vend, waypoints=[vstopa,vstopb],\n",
    "    travel_mode=\"DRIVING\"\n",
    ")\n",
    "fig.add_layer(vacation_itinerary)\n",
    "fig"
   ]
  },
  {
   "cell_type": "code",
   "execution_count": 12,
   "metadata": {},
   "outputs": [
    {
     "data": {
      "text/html": [
       "<div>\n",
       "<style scoped>\n",
       "    .dataframe tbody tr th:only-of-type {\n",
       "        vertical-align: middle;\n",
       "    }\n",
       "\n",
       "    .dataframe tbody tr th {\n",
       "        vertical-align: top;\n",
       "    }\n",
       "\n",
       "    .dataframe thead th {\n",
       "        text-align: right;\n",
       "    }\n",
       "</style>\n",
       "<table border=\"1\" class=\"dataframe\">\n",
       "  <thead>\n",
       "    <tr style=\"text-align: right;\">\n",
       "      <th></th>\n",
       "      <th>City_ID</th>\n",
       "      <th>City</th>\n",
       "      <th>Country</th>\n",
       "      <th>Max Temp</th>\n",
       "      <th>Lat</th>\n",
       "      <th>Lng</th>\n",
       "      <th>Hotel Name</th>\n",
       "    </tr>\n",
       "  </thead>\n",
       "  <tbody>\n",
       "    <tr>\n",
       "      <th>184</th>\n",
       "      <td>274</td>\n",
       "      <td>Abbeville</td>\n",
       "      <td>FR</td>\n",
       "      <td>55.99</td>\n",
       "      <td>50.10</td>\n",
       "      <td>1.83</td>\n",
       "      <td>Hôtel Mercure Abbeville Centre - Porte de la B...</td>\n",
       "    </tr>\n",
       "    <tr>\n",
       "      <th>337</th>\n",
       "      <td>487</td>\n",
       "      <td>Clermont</td>\n",
       "      <td>FR</td>\n",
       "      <td>52.00</td>\n",
       "      <td>49.50</td>\n",
       "      <td>2.42</td>\n",
       "      <td>gîte\" Le Manoir Enchanté\" de Mme Doumayrou</td>\n",
       "    </tr>\n",
       "    <tr>\n",
       "      <th>130</th>\n",
       "      <td>191</td>\n",
       "      <td>Claye-Souilly</td>\n",
       "      <td>FR</td>\n",
       "      <td>53.60</td>\n",
       "      <td>48.94</td>\n",
       "      <td>2.69</td>\n",
       "      <td>CRYSTAL HOTEL</td>\n",
       "    </tr>\n",
       "    <tr>\n",
       "      <th>248</th>\n",
       "      <td>362</td>\n",
       "      <td>Bernay</td>\n",
       "      <td>FR</td>\n",
       "      <td>50.00</td>\n",
       "      <td>49.17</td>\n",
       "      <td>0.67</td>\n",
       "      <td>L’escale du Bohain</td>\n",
       "    </tr>\n",
       "  </tbody>\n",
       "</table>\n",
       "</div>"
      ],
      "text/plain": [
       "     City_ID           City Country  Max Temp    Lat   Lng  \\\n",
       "184      274      Abbeville      FR     55.99  50.10  1.83   \n",
       "337      487       Clermont      FR     52.00  49.50  2.42   \n",
       "130      191  Claye-Souilly      FR     53.60  48.94  2.69   \n",
       "248      362         Bernay      FR     50.00  49.17  0.67   \n",
       "\n",
       "                                            Hotel Name  \n",
       "184  Hôtel Mercure Abbeville Centre - Porte de la B...  \n",
       "337         gîte\" Le Manoir Enchanté\" de Mme Doumayrou  \n",
       "130                                      CRYSTAL HOTEL  \n",
       "248                                 L’escale du Bohain  "
      ]
     },
     "execution_count": 12,
     "metadata": {},
     "output_type": "execute_result"
    }
   ],
   "source": [
    "#making the data frame with all values for itinerary\n",
    "itinerary=pd.concat([vacation_start, vacation_end, vacation_stopa, vacation_stopb])\n",
    "itinerary"
   ]
  },
  {
   "cell_type": "code",
   "execution_count": 11,
   "metadata": {},
   "outputs": [
    {
     "data": {
      "application/vnd.jupyter.widget-view+json": {
       "model_id": "fbd69fb0272447aa9036d17c9cc6a40a",
       "version_major": 2,
       "version_minor": 0
      },
      "text/plain": [
       "Figure(layout=FigureLayout(height='420px'))"
      ]
     },
     "metadata": {},
     "output_type": "display_data"
    }
   ],
   "source": [
    "itinerary.reset_index(drop=True)\n",
    "#adding hotel marks to map\n",
    "info_box_template = \"\"\"\n",
    "<dl>\n",
    "<dt>Hotel Name</dt><dd>{Hotel Name}</dd>\n",
    "<dt>City</dt><dd>{City}</dd>\n",
    "<dt>Country</dt><dd>{Country}</dd>\n",
    "<dt>Hotel Name</dt><dd>{Hotel Name} at {Max Temp}</dd>\n",
    "</dl>\n",
    "\"\"\"\n",
    "# Store the DataFrame Row.\n",
    "hotel_info = [info_box_template.format(**row) for index, row in itinerary.iterrows()]\n",
    "locations=itinerary[[\"Lat\", \"Lng\"]]\n",
    "# Add a heatmap of temperature for the vacation spots.\n",
    "max_temp = vacation_hotel_df[\"Max Temp\"]\n",
    "fig = gmaps.figure(center=(30.0, 31.0), zoom_level=1.5)\n",
    "#markers in GMAPS\n",
    "marker_layer = gmaps.marker_layer(locations, info_box_content=hotel_info)\n",
    "fig.add_layer(marker_layer)\n",
    "# Call the figure to plot the data.\n",
    "fig"
   ]
  },
  {
   "cell_type": "code",
   "execution_count": null,
   "metadata": {},
   "outputs": [],
   "source": []
  }
 ],
 "metadata": {
  "kernelspec": {
   "display_name": "Python 3",
   "language": "python",
   "name": "python3"
  },
  "language_info": {
   "codemirror_mode": {
    "name": "ipython",
    "version": 3
   },
   "file_extension": ".py",
   "mimetype": "text/x-python",
   "name": "python",
   "nbconvert_exporter": "python",
   "pygments_lexer": "ipython3",
   "version": "3.7.7"
  }
 },
 "nbformat": 4,
 "nbformat_minor": 4
}
